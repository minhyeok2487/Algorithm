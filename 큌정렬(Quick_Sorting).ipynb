{
  "nbformat": 4,
  "nbformat_minor": 0,
  "metadata": {
    "kernelspec": {
      "display_name": "Python 3",
      "language": "python",
      "name": "python3"
    },
    "language_info": {
      "codemirror_mode": {
        "name": "ipython",
        "version": 3
      },
      "file_extension": ".py",
      "mimetype": "text/x-python",
      "name": "python",
      "nbconvert_exporter": "python",
      "pygments_lexer": "ipython3",
      "version": "3.7.2"
    },
    "nbTranslate": {
      "displayLangs": [
        "*"
      ],
      "hotkey": "alt-t",
      "langInMainMenu": true,
      "sourceLang": "en",
      "targetLang": "fr",
      "useGoogleTranslate": true
    },
    "colab": {
      "name": "큌정렬(Quick Sorting).ipynb",
      "provenance": [],
      "include_colab_link": true
    }
  },
  "cells": [
    {
      "cell_type": "markdown",
      "metadata": {
        "id": "view-in-github",
        "colab_type": "text"
      },
      "source": [
        "<a href=\"https://colab.research.google.com/github/minhyeok2487/Algorithm/blob/main/%ED%81%8C%EC%A0%95%EB%A0%AC(Quick_Sorting).ipynb\" target=\"_parent\"><img src=\"https://colab.research.google.com/assets/colab-badge.svg\" alt=\"Open In Colab\"/></a>"
      ]
    },
    {
      "cell_type": "markdown",
      "metadata": {
        "id": "CsILZjWknQMV"
      },
      "source": [
        "#퀵 정렬 (Quick Sorting) "
      ]
    },
    {
      "cell_type": "markdown",
      "metadata": {
        "id": "aBu_fBt9nQMX"
      },
      "source": [
        "### 1. 퀵 정렬 (Quick Sorting) 이란?\n",
        "* <font color='#BF360C'>정렬 알고리즘의 꽃</font>\n",
        "* 기준점(pivot 이라고 부름)을 정해서, 기준점보다 작은 데이터는 왼쪽(left), 큰 데이터는 오른쪽(right) 으로 모으는 함수를 작성함\n",
        "* 각 왼쪽(left), 오른쪽(right)은 재귀용법을 사용해서 다시 동일 함수를 호출하여 위 작업을 반복함\n",
        "* 함수는 왼쪽(left) + 기준점(pivot) + 오른쪽(right) 을 리턴함"
      ]
    },
    {
      "cell_type": "markdown",
      "metadata": {
        "id": "_TAmGY91nQMX"
      },
      "source": [
        "### 2. 어떻게 코드로 만들까?"
      ]
    },
    {
      "cell_type": "markdown",
      "metadata": {
        "solution2": "shown",
        "solution2_first": true,
        "id": "wgvmdGfanQMY"
      },
      "source": [
        "<div class=\"alert alert-block alert-warning\">\n",
        "<strong><font color=\"blue\" size=\"4em\">프로그래밍 연습</font></strong><br>\n",
        "다음 리스트를 리스트 슬라이싱(예 [:2])을 이용해서 세 개로 짤라서 각 리스트 변수에 넣고 출력해보기<br>\n",
        "</div>\n",
        "<pre>\n",
        "data_list = [1, 2, 3, 4, 5]\n",
        "출력:\n",
        "print (data1)\n",
        "print (data2)\n",
        "print (data3)\n",
        "[1, 2]\n",
        "3\n",
        "[4, 5]\n",
        "</pre>"
      ]
    },
    {
      "cell_type": "markdown",
      "metadata": {
        "id": "8lFEcxRBnQMY"
      },
      "source": [
        "<div class=\"alert alert-block alert-warning\">\n",
        "<strong><font color=\"blue\" size=\"4em\">프로그래밍 연습</font></strong><br>\n",
        "다음 리스트를 맨 앞에 데이터를 기준으로 작은 데이터는 left 변수에, 그렇지 않은 데이터는 right 변수에 넣기<br>\n",
        "</div>\n",
        "<pre>\n",
        "data_list = [4, 1, 2, 5, 7]\n",
        "</pre>"
      ]
    },
    {
      "cell_type": "markdown",
      "metadata": {
        "id": "mauCJWkHnQMY"
      },
      "source": [
        "<div class=\"alert alert-block alert-warning\">\n",
        "<strong><font color=\"blue\" size=\"4em\">프로그래밍 연습</font></strong><br>\n",
        "다음 리스트를 맨 앞에 데이터를 pivot 변수에 넣고, pivot 변수 값을 기준으로 작은 데이터는 left 변수에, 그렇지 않은 데이터는 right 변수에 넣기<br>\n",
        "</div>"
      ]
    },
    {
      "cell_type": "markdown",
      "metadata": {
        "id": "Tzy2uxEZnQMZ"
      },
      "source": [
        "<div class=\"alert alert-block alert-warning\">\n",
        "<strong><font color=\"blue\" size=\"4em\">프로그래밍 연습</font></strong><br>\n",
        "data_list 가 임의 길이일 때 리스트를 맨 앞에 데이터를 기준으로 작은 데이터는 left 변수에, 그렇지 않은 데이터는 right 변수에 넣기<br>\n",
        "</div>\n",
        "<pre>\n",
        "import random \n",
        "data_list = random.sample(range(100), 10)\n",
        "\n",
        "left = list()\n",
        "right = list()\n",
        "pivot = data_list[0]\n",
        "\n",
        "for index in range(1, -----------------):\n",
        "    if data_list[index] < pivot:\n",
        "        left.append(data_list[index])\n",
        "    else:\n",
        "        right.append(data_list[index])\n",
        "</pre>"
      ]
    },
    {
      "cell_type": "markdown",
      "metadata": {
        "solution2": "hidden",
        "solution2_first": true,
        "id": "D2Osf7x-nQMZ"
      },
      "source": [
        "<div class=\"alert alert-block alert-warning\">\n",
        "<strong><font color=\"blue\" size=\"4em\">프로그래밍 연습</font></strong><br>\n",
        "data_list 가 다음 세 데이터를 가지고 있을 때 리스트를 맨 앞에 데이터를 기준으로 작은 데이터는 left 변수에, 그렇지 않은 데이터는 right 변수에 넣고 left, right, pivot 변수 값을 사용해서 정렬된 데이터 출력해보기<br>\n",
        "</div>\n",
        "<pre>\n",
        "data_list = [4, 3, 2]\n",
        "</pre>"
      ]
    },
    {
      "cell_type": "markdown",
      "metadata": {
        "id": "y8gf7S4ZnQMZ"
      },
      "source": [
        "### 3. 알고리즘 구현\n",
        "* quicksort 함수 만들기\n",
        "  - 만약 리스트 갯수가 한개이면 해당 리스트 리턴\n",
        "  - 그렇지 않으면, 리스트 맨 앞의 데이터를 기준점(pivot)으로 놓기\n",
        "  - left, right 리스트 변수를 만들고,\n",
        "  - 맨 앞의 데이터를 뺀 나머지 데이터를 기준점과 비교(pivot)\n",
        "    - 기준점보다 작으면 left.append(해당 데이터)\n",
        "    - 기준점보다 크면 right.append(해당 데이터)\n",
        "  - return quicksort(left) + pivot + quicksort(right) 로 재귀 호출\n",
        "  \n",
        "> 리스트로 만들어서 리턴하기: return quick_sort(left) + [pivot] + quick_sort(right)"
      ]
    },
    {
      "cell_type": "code",
      "metadata": {
        "id": "bY0kqys1nQMa"
      },
      "source": [
        "def qsort(data):\n",
        "    if len(data) <= 1:\n",
        "        return data\n",
        "    \n",
        "    left, right = list(), list()\n",
        "    pivot = data[0]\n",
        "    \n",
        "    for index in range(1, len(data)):\n",
        "        if pivot > data[index]:\n",
        "            left.append(data[index])\n",
        "        else:\n",
        "            right.append(data[index])\n",
        "    \n",
        "    return qsort(left) + [pivot] + qsort(right)"
      ],
      "execution_count": null,
      "outputs": []
    },
    {
      "cell_type": "code",
      "metadata": {
        "colab": {
          "base_uri": "https://localhost:8080/"
        },
        "id": "lGc4eKIznQMa",
        "outputId": "d99e79bc-b311-4262-a908-6b05dde48710"
      },
      "source": [
        "import random\n",
        "\n",
        "data_list = random.sample(range(100), 10)\n",
        "\n",
        "qsort(data_list)"
      ],
      "execution_count": null,
      "outputs": [
        {
          "output_type": "execute_result",
          "data": {
            "text/plain": [
              "[0, 16, 45, 49, 53, 65, 66, 80, 96, 97]"
            ]
          },
          "metadata": {},
          "execution_count": 2
        }
      ]
    },
    {
      "cell_type": "markdown",
      "metadata": {
        "solution2": "hidden",
        "solution2_first": true,
        "id": "Ucc_lHtNnQMb"
      },
      "source": [
        "<div class=\"alert alert-block alert-warning\">\n",
        "<strong><font color=\"blue\" size=\"4em\">프로그래밍 연습</font></strong><br>\n",
        "위 퀵정렬 코드를 파이썬 list comprehension을 사용해서 더 깔끔하게 작성해보기<br>\n",
        "</div>"
      ]
    },
    {
      "cell_type": "code",
      "metadata": {
        "id": "QeaP9RYenQMb"
      },
      "source": [
        "def qsort(data):\n",
        "    if len(data) <= 1:\n",
        "        return data\n",
        "    \n",
        "    pivot = data[0]\n",
        "\n",
        "    left = [ item for item in data[1:] if pivot > item ]\n",
        "    right = [ item for item in data[1:] if pivot <= item ]\n",
        "    \n",
        "    return qsort(left) + [pivot] + qsort(right)"
      ],
      "execution_count": null,
      "outputs": []
    },
    {
      "cell_type": "code",
      "metadata": {
        "colab": {
          "base_uri": "https://localhost:8080/"
        },
        "id": "QZcbRqyKnQMb",
        "outputId": "2fc2c9b3-03fd-4350-97bd-30e0514b319a"
      },
      "source": [
        "import random\n",
        "\n",
        "data_list = random.sample(range(100), 10)\n",
        "\n",
        "qsort(data_list)"
      ],
      "execution_count": null,
      "outputs": [
        {
          "output_type": "execute_result",
          "data": {
            "text/plain": [
              "[4, 6, 47, 56, 61, 63, 67, 75, 86, 94]"
            ]
          },
          "metadata": {},
          "execution_count": 4
        }
      ]
    },
    {
      "cell_type": "markdown",
      "metadata": {
        "collapsed": true,
        "id": "8fz7FuNAnQMc"
      },
      "source": [
        "### 4. 알고리즘 분석\n",
        "* <font color='#BF360C'>병합정렬과 유사, 시간복잡도는 O(n log n)</font>\n",
        "  - 단, 최악의 경우 \n",
        "    - 맨 처음 pivot이 가장 크거나, 가장 작으면\n",
        "    - 모든 데이터를 비교하는 상황이 나옴\n",
        "    - O(n^2)\n",
        "<img src=\"https://www.fun-coding.org/00_Images/quicksortworks.jpg\" />\n"
      ]
    }
  ]
}