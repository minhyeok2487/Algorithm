{
  "nbformat": 4,
  "nbformat_minor": 0,
  "metadata": {
    "colab": {
      "name": "최소신장트리_프림알고리즘(Prim's Algorithm).ipynb",
      "private_outputs": true,
      "provenance": [],
      "authorship_tag": "ABX9TyNksHM5nOgOQeQ/e+kWOvVc",
      "include_colab_link": true
    },
    "kernelspec": {
      "name": "python3",
      "display_name": "Python 3"
    },
    "language_info": {
      "name": "python"
    }
  },
  "cells": [
    {
      "cell_type": "markdown",
      "metadata": {
        "id": "view-in-github",
        "colab_type": "text"
      },
      "source": [
        "<a href=\"https://colab.research.google.com/github/minhyeok2487/Algorithm/blob/main/%ED%8A%B8%EB%A6%AC(Tree)/%EC%B5%9C%EC%86%8C%EC%8B%A0%EC%9E%A5%ED%8A%B8%EB%A6%AC_%ED%94%84%EB%A6%BC%EC%95%8C%EA%B3%A0%EB%A6%AC%EC%A6%98(Prim's_Algorithm).ipynb\" target=\"_parent\"><img src=\"https://colab.research.google.com/assets/colab-badge.svg\" alt=\"Open In Colab\"/></a>"
      ]
    },
    {
      "cell_type": "markdown",
      "metadata": {
        "id": "Y03BoWEzZ-NF"
      },
      "source": [
        "# 최소 신장 트리"
      ]
    },
    {
      "cell_type": "markdown",
      "metadata": {
        "id": "ItCC2Q3HaAXR"
      },
      "source": [
        "## 1. 신장트리(Spanning Tree)란?\n",
        "\n",
        "<img src=\"https://www.fun-coding.org/00_Images/spanningtree.png\">\n",
        "\n",
        "- 그래프 내에 있는 모든 정점을 연결하고 사이클이 없는 그래프\n",
        "- 신장 트리의 조건\n",
        "  - 본래의 그래프의 모든 노드를 포함해야 함\n",
        "  - 모든 노드가 서로 연결\n",
        "  - 트리의 속성을 만족시킴 (사이클이 존재하지 않음)"
      ]
    },
    {
      "cell_type": "markdown",
      "metadata": {
        "id": "CUk75RpTaDA7"
      },
      "source": [
        "## 2. 최소 신장 트리(Minimum Spanning Tree, MST)\n",
        "\n",
        "<img src=\"https://www.fun-coding.org/00_Images/mst.png\" width=600>\n",
        "\n",
        "- 가능한 Spanning Tree 중에서, 간선의 가중치 합이 최소인 Spanning Tree\n",
        "- 가중치는 거리, 비용, 시간 등 여러가지로 응용할 수 있다."
      ]
    },
    {
      "cell_type": "markdown",
      "metadata": {
        "id": "qylYRaSCaFId"
      },
      "source": [
        "## 3. MST 알고리즘\n",
        "\n",
        "- 대표적인 최소 신장 트리(MST) 알고리즘\n",
        " - 크루스칼 알고리즘 (Kruskal's Algorithm)\n",
        " - 프림 알고리즘 (Prim's Algorithm) "
      ]
    },
    {
      "cell_type": "markdown",
      "metadata": {
        "id": "Z_GCtcShaHj1"
      },
      "source": [
        "# 프림 알고리즘 (Prim's Algorithm)"
      ]
    },
    {
      "cell_type": "markdown",
      "metadata": {
        "id": "hmx3GWQFaNCx"
      },
      "source": [
        "## 1. 프림 알고리즘\n",
        "\n",
        "- 시작 정점을 선택한 후, 정점에 인접한 간선중 최소 간선으로 연결된 정점을 선택하고, 해당 정점에서 다시 최소 간선으로 연결된 정점을 선택하는 방식으로 최소 신장 트리를 확장해가는 방식\n",
        "\n",
        "- Kruskal's algorithm 과 Prim's algorithm 비교\n",
        "  - 둘다, 탐욕 알고리즘을 기초로 하고 있음 (당장 눈 앞의 최소 비용을 선택해서, 결과적으로 최적의 솔루션을 찾음)\n",
        "  - Kruskal's algorithm은 가장 가중치가 작은 간선부터 선택하면서 MST를 구함\n",
        "  - Prim's algorithm은 특정 정점에서 시작, 해당 정점에 연결된 가장 가중치가 작은 간선을 선택, 간선으로 연결된 정점들에 연결된 간선 중에서 가장 가중치가 작은 간선을 택하는 방식으로 MST를 구함"
      ]
    },
    {
      "cell_type": "markdown",
      "metadata": {
        "id": "KTyHJ0Bkae2l"
      },
      "source": [
        "## 2. 알고리즘 이해\n",
        "\n",
        "1. 임의의 정점을 선택, '연결된 노드 집합'에 삽입\n",
        "2. 선택된 정점에 연결된 간선들을 간선 리스트에 삽입\n",
        "3. 간선 리스트에서 최소 가중치를 가지는 간선부터 추출해서,\n",
        "   - 해당 간선에 연결된 인접 정점이 '연결된 노드 집합'에 이미 들어 있다면, 스킵함(cycle 발생을 막기 위함)\n",
        "   - 해당 간선에 연결된 인접 정점이 '연결된 노드 집합'에 들어 있지 않으면, 해당 간선을 선택하고, 해당 간선 정보를 '최소 신장 트리'에 삽입\n",
        "4. 추출한 간선은 간선 리스트에서 제거\n",
        "5. 간선 리스트에 더 이상의 간선이 없을 때까지 3-4번을 반복"
      ]
    },
    {
      "cell_type": "markdown",
      "metadata": {
        "id": "Vz12ZqMgaa-n"
      },
      "source": [
        "### 2. 그림으로 이해하는 프림 알고리즘\n",
        "1. 임의의 정점을 선택, '연결된 노드 집합'에 삽입\n",
        "2. 선택된 정점에 연결된 간선들을 간선 리스트에 삽입\n",
        "3. 간선 리스트에서 최소 가중치를 가지는 간선부터 추출해서,\n",
        "   - 해당 간선에 연결된 인접 정점이 '연결된 노드 집합'에 이미 들어 있다면, 스킵함(cycle 발생을 막기 위함)\n",
        "   - 해당 간선에 연결된 인접 정점이 '연결된 노드 집합'에 들어 있지 않으면, 해당 간선을 선택하고, 해당 간선 정보를 '최소 신장 트리'에 삽입\n",
        "4. 추출한 간선은 간선 리스트에서 제거\n",
        "5. 간선 리스트에 더 이상의 간선이 없을 때까지 3-4번을 반복"
      ]
    },
    {
      "cell_type": "markdown",
      "metadata": {
        "id": "fW-rMsR1ajIS"
      },
      "source": [
        "<img src=\"https://www.fun-coding.org/00_Images/prim1.png\" width=800>\n",
        "\n",
        "<img src=\"https://www.fun-coding.org/00_Images/prim2.png\" width=800>\n",
        "\n",
        "<img src=\"https://www.fun-coding.org/00_Images/prim3.png\" width=800>"
      ]
    },
    {
      "cell_type": "markdown",
      "metadata": {
        "id": "dR97CiTIpaKb"
      },
      "source": [
        "## 3. 프림 알고리즘(Prim's Algorithm) 코드 작성\n",
        "0. 모든 간선 정보를 저장 (**adjacent_edges**)\n",
        "1. 임의의 정점을 선택, '연결된 노드 집합(**connected_nodes**)'에 삽입\n",
        "2. 선택된 정점에 연결된 간선들을 간선 리스트(**candidate_edge_list**)에 삽입\n",
        "3. 간선 리스트(**candidate_edge_list**)에서 최소 가중치를 가지는 간선부터 추출해서,\n",
        "   - 해당 간선에 연결된 인접 정점이 '연결된 노드 집합'에 이미 들어 있다면, 스킵함(cycle 발생을 막기 위함)\n",
        "   - 해당 간선에 연결된 인접 정점이 '연결된 노드 집합'에 들어 있지 않으면, 해당 간선을 선택하고, 해당 간선 정보를 '최소 신장 트리(**mst**)'에 삽입\n",
        "     - 해당 간선에 연결된 인접 정점의 간선들 중, '연결된 노드 집합(**connected_nodes**)' 에 없는 노드와 연결된 간선들만 간선 리스트(**candidate_edge_list**) 에 삽입 \n",
        "       - '연결된 노드 집합(**connected_nodes**)' 에 있는 노드와 연결된 간선들을 간선 리스트에 삽입해도, 해당 간선은 스킵될 것이기 때문임\n",
        "       - 어차피 스킵될 간선을 간선 리스트(**candidate_edge_list**)에 넣지 않으므로 해서, 간선 리스트(**candidate_edge_list**)에서 최소 가중치를 가지는 간선부터 추출하기 위한 자료구조 유지를 위한 effort를 줄일 수 있음 (예, 최소힙 구조 사용)\n",
        "     \n",
        "     \n",
        "4. 선택된 간선은 간선 리스트에서 제거\n",
        "5. 간선 리스트에 더 이상의 간선이 없을 때까지 3-4번을 반복"
      ]
    },
    {
      "cell_type": "code",
      "metadata": {
        "id": "zIY_l9ESn-Oy"
      },
      "source": [
        "# 중복을 포함하지 않으면서 Vertices와 Edges를 담은 리스트 생성\n",
        "myedges = [\n",
        "    (7, 'A', 'B'), (5, 'A', 'D'),\n",
        "    (8, 'B', 'C'), (9, 'B', 'D'), (7, 'B', 'E'),\n",
        "    (5, 'C', 'E'),\n",
        "    (7, 'D', 'E'), (6, 'D', 'F'),\n",
        "    (8, 'E', 'F'), (9, 'E', 'G'),\n",
        "    (11, 'F', 'G')\n",
        "]"
      ],
      "execution_count": null,
      "outputs": []
    },
    {
      "cell_type": "code",
      "metadata": {
        "id": "O5czuCTxa7Se"
      },
      "source": [
        "# 모든 간선 정보를 저장 (adjacent_edges) 하는 함수\n",
        "def set_edges(edges):\n",
        "    adjacent_edges = defaultdict(list)\n",
        "    for weight, n1, n2 in edges:\n",
        "        adjacent_edges[n1].append((weight, n1, n2))\n",
        "        adjacent_edges[n2].append((weight, n2, n1))\n",
        "    return adjacent_edges"
      ],
      "execution_count": null,
      "outputs": []
    },
    {
      "cell_type": "code",
      "metadata": {
        "id": "XU1rlmmV9RF7"
      },
      "source": [
        "from collections import defaultdict\n",
        "from heapq import *\n",
        "\n",
        "def prim(start_node, edges):\n",
        "    mst = list()\n",
        "\n",
        "    adjacent_edges = set_edges(edges)\n",
        "\n",
        "    connected_nodes = set(start_node)\n",
        "    candidate_edge_list = adjacent_edges[start_node]\n",
        "    heapify(candidate_edge_list)\n",
        "    \n",
        "    while candidate_edge_list:\n",
        "        weight, n1, n2 = heappop(candidate_edge_list)\n",
        "        if n2 not in connected_nodes:\n",
        "            connected_nodes.add(n2)\n",
        "            mst.append((weight, n1, n2))\n",
        "            \n",
        "            for edge in adjacent_edges[n2]:\n",
        "                if edge[2] not in connected_nodes:\n",
        "                    heappush(candidate_edge_list, edge)\n",
        "\n",
        "    return mst"
      ],
      "execution_count": null,
      "outputs": []
    },
    {
      "cell_type": "code",
      "metadata": {
        "id": "svVaoS_594cA"
      },
      "source": [
        "prim ('A', myedges)"
      ],
      "execution_count": null,
      "outputs": []
    },
    {
      "cell_type": "markdown",
      "metadata": {
        "id": "oq3gooz0brkN"
      },
      "source": [
        "## 4. 시간복잡도\n",
        "- 최악의 경우, while 구문에서 모든 간선에 대해 반복하고, 최소 힙 구조를 사용하므로 O($ElogE$) 시간 복잡도를 가짐"
      ]
    },
    {
      "cell_type": "code",
      "metadata": {
        "id": "po4IbcC-biVF"
      },
      "source": [
        ""
      ],
      "execution_count": null,
      "outputs": []
    }
  ]
}